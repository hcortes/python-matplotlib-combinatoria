{
 "cells": [
  {
   "cell_type": "code",
   "execution_count": 1,
   "metadata": {},
   "outputs": [
    {
     "data": {
      "application/vnd.jupyter.widget-view+json": {
       "model_id": "47aca6fe4fa64fa9a035799cbfd53836",
       "version_major": 2,
       "version_minor": 0
      },
      "text/plain": [
       "interactive(children=(IntSlider(value=6, description='Vértices', max=20, min=3), Output()), _dom_classes=('wid…"
      ]
     },
     "metadata": {},
     "output_type": "display_data"
    },
    {
     "data": {
      "text/plain": [
       "<function __main__.draw_polygon(n)>"
      ]
     },
     "execution_count": 1,
     "metadata": {},
     "output_type": "execute_result"
    }
   ],
   "source": [
    "import matplotlib.pyplot as plt\n",
    "import numpy as np\n",
    "from ipywidgets import interact, IntSlider\n",
    "from math import comb\n",
    "\n",
    "def draw_polygon(n):\n",
    "    plt.figure(figsize=(6, 6))\n",
    "    ax = plt.gca()\n",
    "    ax.set_aspect('equal')\n",
    "    plt.axis('off')\n",
    "    \n",
    "    # Coordenadas de los vértices\n",
    "    angles = np.linspace(0, 2 * np.pi, n, endpoint=False)\n",
    "    points = np.array([[np.cos(a), np.sin(a)] for a in angles])\n",
    "    \n",
    "    # Dibujo de los lados\n",
    "    for i in range(n):\n",
    "        p1 = points[i]\n",
    "        p2 = points[(i + 1) % n]\n",
    "        ax.plot([p1[0], p2[0]], [p1[1], p2[1]], 'b')\n",
    "    \n",
    "    # Dibujo de las diagonales\n",
    "    for i in range(n):\n",
    "        for j in range(i + 1, n):\n",
    "            if abs(i - j) != 1 and abs(i - j) != n - 1:  # Evitar lados adyacentes\n",
    "                p1, p2 = points[i], points[j]\n",
    "                ax.plot([p1[0], p2[0]], [p1[1], p2[1]], 'skyblue', linewidth=1)\n",
    "\n",
    "    # Mostrar las combinaciones\n",
    "    total_combinations = comb(n, 2)\n",
    "    diagonals = comb(n, 2) - n\n",
    "    plt.title(f\"Vértices: {n} | Combinaciones: {total_combinations} | Diagonales: {diagonals}\", fontsize=12)\n",
    "    plt.show()\n",
    "\n",
    "# Slider interactivo\n",
    "interact(draw_polygon, n=IntSlider(value=6, min=3, max=20, step=1, description='Vértices'))\n"
   ]
  },
  {
   "cell_type": "markdown",
   "metadata": {},
   "source": []
  },
  {
   "cell_type": "markdown",
   "metadata": {},
   "source": [
    "## Interacciones\n",
    "\n",
    "$\\begin{aligned}\n",
    "& C(n, 2) = \\frac{n(n - 1)}{2}  \n",
    "& D(n) = \\frac{n(n - 3)}{2} \\\\\n",
    "\\end{aligned}$\n",
    "\n",
    "<br>\n",
    "<br>\n",
    "Cuando decimos que cada módulo de un sistema puede tener dependencias con muchos otros, estamos hablando de una estructura tipo \"todos con todos\", y ahí aparece naturalmente una complejidad cuadrática.\n",
    "\n",
    "Si tenés n módulos, y cada módulo se puede comunicar con cualquier otro, el número total de posibles conexiones (dependencias) es:\n",
    "\n",
    "\n",
    "\n",
    "$\\begin{aligned}\n",
    "& C(n, 2) = \\frac{n(n - 1)}{2} \\approx O(n^2) \n",
    "\\end{aligned}$\n",
    "\n",
    "\n",
    "\n",
    "A medida que n crece, la cantidad de relaciones posibles crece cuadráticamente, y eso hace que:\n",
    "- El código sea más difícil de entender.\n",
    "- Las modificaciones impacten en más lugares.\n",
    "- El mantenimiento y testeo se vuelvan costosos.\n",
    "\n",
    "Complejidad del software según acoplamiento \n",
    "\n",
    "| Escenario | Complejidad estimada |Ejemplo |\n",
    "| --- | --- | --- |\n",
    "| Módulos independientes |  ~ O(n) |  Scripts simples, sin dependencias |\n",
    "| Módulos con dependencias | ~ O(n²)  | Cada módulo habla con varios otros  |\n",
    "| Eventos, herencia, efectos | ~ O(n³) o más | UI reactiva, sistemas distribuidos, frameworks |\n",
    "\n",
    "\n",
    "\n",
    "\n"
   ]
  },
  {
   "cell_type": "markdown",
   "metadata": {},
   "source": [
    "## Leyes de Lehman sobre la Evolución del Software\n",
    "Las formuló Meir M. Lehman junto a Leslie Belady en los años 70 y 80, a partir de observar cómo evolucionaban grandes sistemas de software en el tiempo (como los del ámbito militar y científico).\n",
    "\n",
    " 1. Ley del Cambio Continuo\n",
    "\"Un sistema que se usa en un entorno del mundo real debe cambiar o se volverá cada vez menos útil con el tiempo.\"\n",
    "\n",
    "2. Ley de la Complejidad Creciente\n",
    "\"A medida que un sistema evoluciona, su complejidad aumenta a menos que se tomen medidas activas para reducirla.\"\n",
    "\n",
    "3. Ley de la Auto-Regulación\n",
    "\"El proceso de evolución del software es autocontrolado y estadísticamente predecible.\"\n",
    "\n",
    "4. Ley de la Conservación de la Estabilidad\n",
    "\"El ritmo de desarrollo tiende a mantenerse constante a lo largo del tiempo.\" <br> (Por más que el sistema crezca, el equipo produce cambios a un ritmo estable.)\n",
    "\n",
    "5. Ley de la Conservación de la Familiaridad\n",
    "\"Para poder seguir evolucionando un sistema, el equipo necesita mantener su familiaridad con él.\" <br> \n",
    "Hay un límite en cuánto se puede cambiar el sistema antes de que se vuelva incomprensible para los desarrolladores.\n",
    "\n",
    "6. Ley del Incremento Continuo\n",
    "\"La funcionalidad del sistema debe incrementarse continuamente para satisfacer a los usuarios.\" <br> Siempre hay presión de agregar más cosas: funciones, módulos, mejoras.\n",
    "\n",
    "7. Ley de la Calidad Decadente\n",
    "\"A menos que se mantenga activamente, la calidad del sistema se degrada con el tiempo.\" <br> \n",
    "Bugs, código espagueti, deuda técnica: inevitable si no se cuida.\n",
    "\n",
    "8. Ley de Retroalimentación Organizacional\n",
    "\"La evolución del software está limitada por la retroalimentación organizacional y social.\" <br> La evolución no depende solo del código, sino del equipo, la estructura organizativa, los procesos, etc.   \n",
    "\n",
    "\n",
    "\n",
    "\n"
   ]
  }
 ],
 "metadata": {
  "kernelspec": {
   "display_name": "myenv-um",
   "language": "python",
   "name": "python3"
  },
  "language_info": {
   "codemirror_mode": {
    "name": "ipython",
    "version": 3
   },
   "file_extension": ".py",
   "mimetype": "text/x-python",
   "name": "python",
   "nbconvert_exporter": "python",
   "pygments_lexer": "ipython3",
   "version": "3.12.7"
  }
 },
 "nbformat": 4,
 "nbformat_minor": 2
}
